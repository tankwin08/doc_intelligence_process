{
 "cells": [
  {
   "cell_type": "code",
   "execution_count": 1,
   "metadata": {},
   "outputs": [],
   "source": [
    "from langchain.embeddings import HuggingFaceEmbeddings\n",
    "from langchain_community.embeddings import OllamaEmbeddings\n",
    "from langchain.vectorstores import FAISS\n",
    "from langchain.chains import RetrievalQA\n",
    "from langchain_community.llms import Ollama\n",
    "import os,sys,glob\n",
    "import json\n",
    "\n",
    "parent_dir = \"/Users/tankwin08/Desktop/projects/personal/doc_intelligence_process\"\n",
    "sys.path.append(parent_dir)\n",
    "\n",
    "from api.document_helper import DocumentHelper\n"
   ]
  },
  {
   "cell_type": "code",
   "execution_count": 2,
   "metadata": {},
   "outputs": [
    {
     "name": "stderr",
     "output_type": "stream",
     "text": [
      "/var/folders/3z/x5hpbmcj1cjbvv0rtqvppptw0000gn/T/ipykernel_39706/827197940.py:2: LangChainDeprecationWarning: The class `Ollama` was deprecated in LangChain 0.3.1 and will be removed in 1.0.0. An updated version of the class exists in the :class:`~langchain-ollama package and should be used instead. To use it run `pip install -U :class:`~langchain-ollama` and import as `from :class:`~langchain_ollama import OllamaLLM``.\n",
      "  llm = Ollama(model=\"deepseek-r1:latest\", base_url=\"http://localhost:11434\")  # Adjust base_url if hosted remotely\n",
      "/var/folders/3z/x5hpbmcj1cjbvv0rtqvppptw0000gn/T/ipykernel_39706/827197940.py:4: LangChainDeprecationWarning: The class `OllamaEmbeddings` was deprecated in LangChain 0.3.1 and will be removed in 1.0.0. An updated version of the class exists in the :class:`~langchain-ollama package and should be used instead. To use it run `pip install -U :class:`~langchain-ollama` and import as `from :class:`~langchain_ollama import OllamaEmbeddings``.\n",
      "  embeddings = OllamaEmbeddings(model=\"nomic-embed-text\", base_url=\"http://localhost:11434\")\n"
     ]
    }
   ],
   "source": [
    "# Initialize Ollama LLM and embeddings\n",
    "llm = Ollama(model=\"deepseek-r1:latest\", base_url=\"http://localhost:11434\")  # Adjust base_url if hosted remotely\n",
    "# embeddings = HuggingFaceEmbeddings(model_name=\"sentence-transformers/all-MiniLM-L6-v2\")\n",
    "embeddings = OllamaEmbeddings(model=\"nomic-embed-text\", base_url=\"http://localhost:11434\")\n",
    "vector_store = None\n",
    "\n",
    "# Initialize document helper and vector store\n",
    "doc_helper = DocumentHelper()\n",
    "vector_store = None"
   ]
  },
  {
   "cell_type": "code",
   "execution_count": 13,
   "metadata": {},
   "outputs": [
    {
     "data": {
      "text/plain": [
       "['/Users/tankwin08/Desktop/projects/personal/doc_intelligence_process/data/data-science-cheatsheet.pdf']"
      ]
     },
     "execution_count": 13,
     "metadata": {},
     "output_type": "execute_result"
    }
   ],
   "source": [
    "files = glob.glob(parent_dir+\"/data/*.pdf\")\n",
    "files"
   ]
  },
  {
   "cell_type": "code",
   "execution_count": 14,
   "metadata": {},
   "outputs": [
    {
     "name": "stderr",
     "output_type": "stream",
     "text": [
      "Ignoring wrong pointing object 48 0 (offset 0)\n",
      "Ignoring wrong pointing object 49 0 (offset 0)\n",
      "Ignoring wrong pointing object 50 0 (offset 0)\n",
      "Ignoring wrong pointing object 52 0 (offset 0)\n",
      "Ignoring wrong pointing object 149 0 (offset 0)\n",
      "Ignoring wrong pointing object 162 0 (offset 0)\n",
      "Ignoring wrong pointing object 171 0 (offset 0)\n"
     ]
    }
   ],
   "source": [
    "output_path, documents, vector_store = process_documents(files=files)"
   ]
  },
  {
   "cell_type": "markdown",
   "metadata": {},
   "source": [
    "## chat with documents"
   ]
  },
  {
   "cell_type": "code",
   "execution_count": 18,
   "metadata": {},
   "outputs": [],
   "source": [
    "query = \"summary this document\"\n",
    "stream  = True"
   ]
  },
  {
   "cell_type": "code",
   "execution_count": null,
   "metadata": {},
   "outputs": [],
   "source": [
    "qa_chain = RetrievalQA.from_chain_type(\n",
    "    llm=llm,\n",
    "    chain_type=\"stuff\",\n",
    "    retriever=vector_store.as_retriever()\n",
    ")\n"
   ]
  },
  {
   "cell_type": "code",
   "execution_count": null,
   "metadata": {},
   "outputs": [
    {
     "name": "stderr",
     "output_type": "stream",
     "text": [
      "/var/folders/3z/x5hpbmcj1cjbvv0rtqvppptw0000gn/T/ipykernel_39706/3841874701.py:1: LangChainDeprecationWarning: The method `Chain.run` was deprecated in langchain 0.1.0 and will be removed in 1.0. Use :meth:`~invoke` instead.\n",
      "  response = qa_chain.run(query)\n"
     ]
    }
   ],
   "source": [
    "response = qa_chain.run(query)\n",
    "print(response.split('</think>')[1])"
   ]
  },
  {
   "cell_type": "code",
   "execution_count": null,
   "metadata": {},
   "outputs": [
    {
     "name": "stdout",
     "output_type": "stream",
     "text": [
      "\n",
      "\n",
      "The document provides a comprehensive overview of statistical concepts and clustering techniques. It begins by discussing central tendency measures: the arithmetic mean, geometric mean, median, and mode, each suited for different data scenarios. It then covers variability measures, including variance and standard deviation, explaining how they quantify data spread due to random noise.\n",
      "\n",
      "The latter part focuses on hierarchical clustering using dendrograms, highlighting four linkage methods: complete (max dissimilarity), single (min dissimilarity), average, and centroid-based approaches. Each method determines how clusters are merged, offering different strategies for grouping data points.\n",
      "\n",
      "In summary, the document effectively covers essential statistical measures and advanced clustering techniques, providing a clear framework for understanding data analysis and pattern recognition methods.\n"
     ]
    }
   ],
   "source": []
  }
 ],
 "metadata": {
  "kernelspec": {
   "display_name": "rag",
   "language": "python",
   "name": "python3"
  },
  "language_info": {
   "codemirror_mode": {
    "name": "ipython",
    "version": 3
   },
   "file_extension": ".py",
   "mimetype": "text/x-python",
   "name": "python",
   "nbconvert_exporter": "python",
   "pygments_lexer": "ipython3",
   "version": "3.10.16"
  }
 },
 "nbformat": 4,
 "nbformat_minor": 2
}
